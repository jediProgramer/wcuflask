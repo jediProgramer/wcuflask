{
 "cells": [
  {
   "cell_type": "markdown",
   "id": "9014d606-733b-42a1-b8aa-0cc81fe03e21",
   "metadata": {},
   "source": [
    "Install library Pandas and Matplotlib"
   ]
  },
  {
   "cell_type": "code",
   "execution_count": 1,
   "id": "5789d254-f33c-41cf-972d-cd7e5558913d",
   "metadata": {},
   "outputs": [
    {
     "name": "stdout",
     "output_type": "stream",
     "text": [
      "Requirement already satisfied: pandas in /Library/Frameworks/Python.framework/Versions/3.12/lib/python3.12/site-packages (2.2.2)\n",
      "Requirement already satisfied: numpy>=1.26.0 in /Library/Frameworks/Python.framework/Versions/3.12/lib/python3.12/site-packages (from pandas) (2.0.0)\n",
      "Requirement already satisfied: python-dateutil>=2.8.2 in /Library/Frameworks/Python.framework/Versions/3.12/lib/python3.12/site-packages (from pandas) (2.9.0.post0)\n",
      "Requirement already satisfied: pytz>=2020.1 in /Library/Frameworks/Python.framework/Versions/3.12/lib/python3.12/site-packages (from pandas) (2024.1)\n",
      "Requirement already satisfied: tzdata>=2022.7 in /Library/Frameworks/Python.framework/Versions/3.12/lib/python3.12/site-packages (from pandas) (2024.1)\n",
      "Requirement already satisfied: six>=1.5 in /Library/Frameworks/Python.framework/Versions/3.12/lib/python3.12/site-packages (from python-dateutil>=2.8.2->pandas) (1.16.0)\n",
      "Requirement already satisfied: matplotlib in /Library/Frameworks/Python.framework/Versions/3.12/lib/python3.12/site-packages (3.9.0)\n",
      "Requirement already satisfied: contourpy>=1.0.1 in /Library/Frameworks/Python.framework/Versions/3.12/lib/python3.12/site-packages (from matplotlib) (1.2.1)\n",
      "Requirement already satisfied: cycler>=0.10 in /Library/Frameworks/Python.framework/Versions/3.12/lib/python3.12/site-packages (from matplotlib) (0.12.1)\n",
      "Requirement already satisfied: fonttools>=4.22.0 in /Library/Frameworks/Python.framework/Versions/3.12/lib/python3.12/site-packages (from matplotlib) (4.53.0)\n",
      "Requirement already satisfied: kiwisolver>=1.3.1 in /Library/Frameworks/Python.framework/Versions/3.12/lib/python3.12/site-packages (from matplotlib) (1.4.5)\n",
      "Requirement already satisfied: numpy>=1.23 in /Library/Frameworks/Python.framework/Versions/3.12/lib/python3.12/site-packages (from matplotlib) (2.0.0)\n",
      "Requirement already satisfied: packaging>=20.0 in /Library/Frameworks/Python.framework/Versions/3.12/lib/python3.12/site-packages (from matplotlib) (24.1)\n",
      "Requirement already satisfied: pillow>=8 in /Library/Frameworks/Python.framework/Versions/3.12/lib/python3.12/site-packages (from matplotlib) (10.3.0)\n",
      "Requirement already satisfied: pyparsing>=2.3.1 in /Library/Frameworks/Python.framework/Versions/3.12/lib/python3.12/site-packages (from matplotlib) (3.1.2)\n",
      "Requirement already satisfied: python-dateutil>=2.7 in /Library/Frameworks/Python.framework/Versions/3.12/lib/python3.12/site-packages (from matplotlib) (2.9.0.post0)\n",
      "Requirement already satisfied: six>=1.5 in /Library/Frameworks/Python.framework/Versions/3.12/lib/python3.12/site-packages (from python-dateutil>=2.7->matplotlib) (1.16.0)\n"
     ]
    }
   ],
   "source": [
    "!pip install pandas\n",
    "!pip install matplotlib"
   ]
  },
  {
   "cell_type": "markdown",
   "id": "f91b2e20-f0f2-47e0-947f-2f7b59321322",
   "metadata": {},
   "source": [
    "Import the required libraries, namely pandas & matplotlib. Pandas is a library in Python that is used to work with data sets because it has functions for analyzing, cleaning, exploring, and manipulating data. Matplotlib is a library used to create static, animated, and interactive visualizations in Python."
   ]
  },
  {
   "cell_type": "code",
   "execution_count": 2,
   "id": "b5a06177-5a3a-49a6-9b6a-a81bed5e507b",
   "metadata": {},
   "outputs": [],
   "source": [
    "import pandas as pd\n",
    "import matplotlib.pyplot as plt"
   ]
  },
  {
   "cell_type": "markdown",
   "id": "0a652a32-3f34-42ea-a71a-4286e051bd95",
   "metadata": {},
   "source": [
    "Upload a data file stored on the local computer with the name Student_Grades.xlsx so that it is recognized via colab."
   ]
  },
  {
   "cell_type": "markdown",
   "id": "e157d36a-37bb-4fb4-86fe-d5f9ad8cd520",
   "metadata": {},
   "source": [
    "Read file dataset"
   ]
  },
  {
   "cell_type": "code",
   "execution_count": 3,
   "id": "fa91ab25-b7c2-45f2-92c9-d64dd2afa360",
   "metadata": {},
   "outputs": [],
   "source": [
    "data = pd.read_excel('Student_Grades.xlsx', header=3)"
   ]
  },
  {
   "cell_type": "markdown",
   "id": "7bd26d47-3d34-44f7-bd86-b7e40d0c1494",
   "metadata": {},
   "source": [
    "Displays read data. The illustration on the side only shows part of the data."
   ]
  },
  {
   "cell_type": "code",
   "execution_count": 4,
   "id": "b51cb48c-7c84-4b65-bb17-dbcb287ab127",
   "metadata": {},
   "outputs": [
    {
     "data": {
      "text/html": [
       "<div>\n",
       "<style scoped>\n",
       "    .dataframe tbody tr th:only-of-type {\n",
       "        vertical-align: middle;\n",
       "    }\n",
       "\n",
       "    .dataframe tbody tr th {\n",
       "        vertical-align: top;\n",
       "    }\n",
       "\n",
       "    .dataframe thead th {\n",
       "        text-align: right;\n",
       "    }\n",
       "</style>\n",
       "<table border=\"1\" class=\"dataframe\">\n",
       "  <thead>\n",
       "    <tr style=\"text-align: right;\">\n",
       "      <th></th>\n",
       "      <th>No</th>\n",
       "      <th>CLASS</th>\n",
       "      <th>TEACHER_NAME</th>\n",
       "      <th>STUDENT_ID</th>\n",
       "      <th>STUDENT_NAME</th>\n",
       "      <th>MES</th>\n",
       "      <th>FES</th>\n",
       "      <th>SCORES</th>\n",
       "      <th>GRADES</th>\n",
       "    </tr>\n",
       "  </thead>\n",
       "  <tbody>\n",
       "    <tr>\n",
       "      <th>0</th>\n",
       "      <td>1</td>\n",
       "      <td>A</td>\n",
       "      <td>Doni Rinaldi</td>\n",
       "      <td>1001</td>\n",
       "      <td>Dina Amartya</td>\n",
       "      <td>80</td>\n",
       "      <td>82</td>\n",
       "      <td>81.0</td>\n",
       "      <td>A</td>\n",
       "    </tr>\n",
       "    <tr>\n",
       "      <th>1</th>\n",
       "      <td>2</td>\n",
       "      <td>A</td>\n",
       "      <td>Doni Rinaldi</td>\n",
       "      <td>1002</td>\n",
       "      <td>Laili Khoiriyah</td>\n",
       "      <td>78</td>\n",
       "      <td>83</td>\n",
       "      <td>80.5</td>\n",
       "      <td>A</td>\n",
       "    </tr>\n",
       "    <tr>\n",
       "      <th>2</th>\n",
       "      <td>3</td>\n",
       "      <td>A</td>\n",
       "      <td>Doni Rinaldi</td>\n",
       "      <td>1003</td>\n",
       "      <td>Panji Kusuma</td>\n",
       "      <td>60</td>\n",
       "      <td>56</td>\n",
       "      <td>58.0</td>\n",
       "      <td>D</td>\n",
       "    </tr>\n",
       "    <tr>\n",
       "      <th>3</th>\n",
       "      <td>4</td>\n",
       "      <td>A</td>\n",
       "      <td>Doni Rinaldi</td>\n",
       "      <td>1004</td>\n",
       "      <td>Felix Doni</td>\n",
       "      <td>77</td>\n",
       "      <td>80</td>\n",
       "      <td>78.5</td>\n",
       "      <td>B</td>\n",
       "    </tr>\n",
       "    <tr>\n",
       "      <th>4</th>\n",
       "      <td>5</td>\n",
       "      <td>A</td>\n",
       "      <td>Doni Rinaldi</td>\n",
       "      <td>1005</td>\n",
       "      <td>Risang Bagus</td>\n",
       "      <td>86</td>\n",
       "      <td>82</td>\n",
       "      <td>84.0</td>\n",
       "      <td>A</td>\n",
       "    </tr>\n",
       "    <tr>\n",
       "      <th>5</th>\n",
       "      <td>6</td>\n",
       "      <td>A</td>\n",
       "      <td>Doni Rinaldi</td>\n",
       "      <td>1006</td>\n",
       "      <td>Fahrul Rozi</td>\n",
       "      <td>82</td>\n",
       "      <td>77</td>\n",
       "      <td>79.5</td>\n",
       "      <td>B</td>\n",
       "    </tr>\n",
       "    <tr>\n",
       "      <th>6</th>\n",
       "      <td>7</td>\n",
       "      <td>A</td>\n",
       "      <td>Doni Rinaldi</td>\n",
       "      <td>1007</td>\n",
       "      <td>Aurelia Tita</td>\n",
       "      <td>96</td>\n",
       "      <td>96</td>\n",
       "      <td>96.0</td>\n",
       "      <td>A</td>\n",
       "    </tr>\n",
       "    <tr>\n",
       "      <th>7</th>\n",
       "      <td>8</td>\n",
       "      <td>A</td>\n",
       "      <td>Doni Rinaldi</td>\n",
       "      <td>1008</td>\n",
       "      <td>Putri Tiara</td>\n",
       "      <td>65</td>\n",
       "      <td>60</td>\n",
       "      <td>62.5</td>\n",
       "      <td>C</td>\n",
       "    </tr>\n",
       "    <tr>\n",
       "      <th>8</th>\n",
       "      <td>9</td>\n",
       "      <td>A</td>\n",
       "      <td>Doni Rinaldi</td>\n",
       "      <td>1009</td>\n",
       "      <td>Beni Mahendra</td>\n",
       "      <td>98</td>\n",
       "      <td>95</td>\n",
       "      <td>96.5</td>\n",
       "      <td>A</td>\n",
       "    </tr>\n",
       "    <tr>\n",
       "      <th>9</th>\n",
       "      <td>10</td>\n",
       "      <td>A</td>\n",
       "      <td>Doni Rinaldi</td>\n",
       "      <td>1010</td>\n",
       "      <td>Kayla Rinastiti</td>\n",
       "      <td>81</td>\n",
       "      <td>78</td>\n",
       "      <td>79.5</td>\n",
       "      <td>B</td>\n",
       "    </tr>\n",
       "    <tr>\n",
       "      <th>10</th>\n",
       "      <td>11</td>\n",
       "      <td>B</td>\n",
       "      <td>Ahmad Yusuf</td>\n",
       "      <td>1011</td>\n",
       "      <td>Andi Riadi</td>\n",
       "      <td>60</td>\n",
       "      <td>78</td>\n",
       "      <td>69.0</td>\n",
       "      <td>C</td>\n",
       "    </tr>\n",
       "    <tr>\n",
       "      <th>11</th>\n",
       "      <td>12</td>\n",
       "      <td>B</td>\n",
       "      <td>Ahmad Yusuf</td>\n",
       "      <td>1012</td>\n",
       "      <td>Cahya Kurnia</td>\n",
       "      <td>90</td>\n",
       "      <td>87</td>\n",
       "      <td>88.5</td>\n",
       "      <td>A</td>\n",
       "    </tr>\n",
       "    <tr>\n",
       "      <th>12</th>\n",
       "      <td>13</td>\n",
       "      <td>B</td>\n",
       "      <td>Ahmad Yusuf</td>\n",
       "      <td>1013</td>\n",
       "      <td>Dicky Hambara</td>\n",
       "      <td>77</td>\n",
       "      <td>78</td>\n",
       "      <td>77.5</td>\n",
       "      <td>B</td>\n",
       "    </tr>\n",
       "    <tr>\n",
       "      <th>13</th>\n",
       "      <td>14</td>\n",
       "      <td>B</td>\n",
       "      <td>Ahmad Yusuf</td>\n",
       "      <td>1014</td>\n",
       "      <td>Evan Setiawan</td>\n",
       "      <td>79</td>\n",
       "      <td>82</td>\n",
       "      <td>80.5</td>\n",
       "      <td>A</td>\n",
       "    </tr>\n",
       "    <tr>\n",
       "      <th>14</th>\n",
       "      <td>15</td>\n",
       "      <td>B</td>\n",
       "      <td>Ahmad Yusuf</td>\n",
       "      <td>1015</td>\n",
       "      <td>Gina Lolita</td>\n",
       "      <td>88</td>\n",
       "      <td>80</td>\n",
       "      <td>84.0</td>\n",
       "      <td>A</td>\n",
       "    </tr>\n",
       "    <tr>\n",
       "      <th>15</th>\n",
       "      <td>16</td>\n",
       "      <td>B</td>\n",
       "      <td>Ahmad Yusuf</td>\n",
       "      <td>1016</td>\n",
       "      <td>Hafid Azhari</td>\n",
       "      <td>82</td>\n",
       "      <td>77</td>\n",
       "      <td>79.5</td>\n",
       "      <td>B</td>\n",
       "    </tr>\n",
       "    <tr>\n",
       "      <th>16</th>\n",
       "      <td>17</td>\n",
       "      <td>B</td>\n",
       "      <td>Ahmad Yusuf</td>\n",
       "      <td>1017</td>\n",
       "      <td>Inayah Lutfi</td>\n",
       "      <td>75</td>\n",
       "      <td>79</td>\n",
       "      <td>77.0</td>\n",
       "      <td>B</td>\n",
       "    </tr>\n",
       "    <tr>\n",
       "      <th>17</th>\n",
       "      <td>18</td>\n",
       "      <td>B</td>\n",
       "      <td>Ahmad Yusuf</td>\n",
       "      <td>1018</td>\n",
       "      <td>Farah Diba</td>\n",
       "      <td>70</td>\n",
       "      <td>75</td>\n",
       "      <td>72.5</td>\n",
       "      <td>B</td>\n",
       "    </tr>\n",
       "    <tr>\n",
       "      <th>18</th>\n",
       "      <td>19</td>\n",
       "      <td>B</td>\n",
       "      <td>Ahmad Yusuf</td>\n",
       "      <td>1019</td>\n",
       "      <td>Kurnia Sandi</td>\n",
       "      <td>80</td>\n",
       "      <td>82</td>\n",
       "      <td>81.0</td>\n",
       "      <td>A</td>\n",
       "    </tr>\n",
       "    <tr>\n",
       "      <th>19</th>\n",
       "      <td>20</td>\n",
       "      <td>B</td>\n",
       "      <td>Ahmad Yusuf</td>\n",
       "      <td>1020</td>\n",
       "      <td>Lita Dahayu</td>\n",
       "      <td>82</td>\n",
       "      <td>81</td>\n",
       "      <td>81.5</td>\n",
       "      <td>A</td>\n",
       "    </tr>\n",
       "    <tr>\n",
       "      <th>20</th>\n",
       "      <td>21</td>\n",
       "      <td>C</td>\n",
       "      <td>Reni Riana</td>\n",
       "      <td>1021</td>\n",
       "      <td>Marina</td>\n",
       "      <td>88</td>\n",
       "      <td>90</td>\n",
       "      <td>89.0</td>\n",
       "      <td>A</td>\n",
       "    </tr>\n",
       "    <tr>\n",
       "      <th>21</th>\n",
       "      <td>22</td>\n",
       "      <td>C</td>\n",
       "      <td>Reni Riana</td>\n",
       "      <td>1022</td>\n",
       "      <td>Wahyu Setya</td>\n",
       "      <td>98</td>\n",
       "      <td>95</td>\n",
       "      <td>96.5</td>\n",
       "      <td>A</td>\n",
       "    </tr>\n",
       "    <tr>\n",
       "      <th>22</th>\n",
       "      <td>23</td>\n",
       "      <td>C</td>\n",
       "      <td>Reni Riana</td>\n",
       "      <td>1023</td>\n",
       "      <td>Zulkarnaen</td>\n",
       "      <td>78</td>\n",
       "      <td>83</td>\n",
       "      <td>80.5</td>\n",
       "      <td>A</td>\n",
       "    </tr>\n",
       "    <tr>\n",
       "      <th>23</th>\n",
       "      <td>24</td>\n",
       "      <td>C</td>\n",
       "      <td>Reni Riana</td>\n",
       "      <td>1024</td>\n",
       "      <td>Rahmat Pribadi</td>\n",
       "      <td>81</td>\n",
       "      <td>77</td>\n",
       "      <td>79.0</td>\n",
       "      <td>B</td>\n",
       "    </tr>\n",
       "    <tr>\n",
       "      <th>24</th>\n",
       "      <td>25</td>\n",
       "      <td>C</td>\n",
       "      <td>Reni Riana</td>\n",
       "      <td>1025</td>\n",
       "      <td>Vera Fajril</td>\n",
       "      <td>84</td>\n",
       "      <td>80</td>\n",
       "      <td>82.0</td>\n",
       "      <td>A</td>\n",
       "    </tr>\n",
       "    <tr>\n",
       "      <th>25</th>\n",
       "      <td>26</td>\n",
       "      <td>C</td>\n",
       "      <td>Reni Riana</td>\n",
       "      <td>1026</td>\n",
       "      <td>Banu Mahardika</td>\n",
       "      <td>86</td>\n",
       "      <td>79</td>\n",
       "      <td>82.5</td>\n",
       "      <td>A</td>\n",
       "    </tr>\n",
       "    <tr>\n",
       "      <th>26</th>\n",
       "      <td>27</td>\n",
       "      <td>C</td>\n",
       "      <td>Reni Riana</td>\n",
       "      <td>1027</td>\n",
       "      <td>Usman Sapta</td>\n",
       "      <td>93</td>\n",
       "      <td>87</td>\n",
       "      <td>90.0</td>\n",
       "      <td>A</td>\n",
       "    </tr>\n",
       "    <tr>\n",
       "      <th>27</th>\n",
       "      <td>28</td>\n",
       "      <td>C</td>\n",
       "      <td>Reni Riana</td>\n",
       "      <td>1028</td>\n",
       "      <td>Agus Susetya</td>\n",
       "      <td>75</td>\n",
       "      <td>78</td>\n",
       "      <td>76.5</td>\n",
       "      <td>B</td>\n",
       "    </tr>\n",
       "    <tr>\n",
       "      <th>28</th>\n",
       "      <td>29</td>\n",
       "      <td>C</td>\n",
       "      <td>Reni Riana</td>\n",
       "      <td>1029</td>\n",
       "      <td>Beni Riadi</td>\n",
       "      <td>72</td>\n",
       "      <td>75</td>\n",
       "      <td>73.5</td>\n",
       "      <td>B</td>\n",
       "    </tr>\n",
       "    <tr>\n",
       "      <th>29</th>\n",
       "      <td>30</td>\n",
       "      <td>C</td>\n",
       "      <td>Reni Riana</td>\n",
       "      <td>1030</td>\n",
       "      <td>Dodi Mahendra</td>\n",
       "      <td>83</td>\n",
       "      <td>79</td>\n",
       "      <td>81.0</td>\n",
       "      <td>A</td>\n",
       "    </tr>\n",
       "  </tbody>\n",
       "</table>\n",
       "</div>"
      ],
      "text/plain": [
       "    No CLASS  TEACHER_NAME  STUDENT_ID     STUDENT_NAME  MES  FES  SCORES  \\\n",
       "0    1     A  Doni Rinaldi        1001     Dina Amartya   80   82    81.0   \n",
       "1    2     A  Doni Rinaldi        1002  Laili Khoiriyah   78   83    80.5   \n",
       "2    3     A  Doni Rinaldi        1003     Panji Kusuma   60   56    58.0   \n",
       "3    4     A  Doni Rinaldi        1004       Felix Doni   77   80    78.5   \n",
       "4    5     A  Doni Rinaldi        1005     Risang Bagus   86   82    84.0   \n",
       "5    6     A  Doni Rinaldi        1006      Fahrul Rozi   82   77    79.5   \n",
       "6    7     A  Doni Rinaldi        1007     Aurelia Tita   96   96    96.0   \n",
       "7    8     A  Doni Rinaldi        1008      Putri Tiara   65   60    62.5   \n",
       "8    9     A  Doni Rinaldi        1009    Beni Mahendra   98   95    96.5   \n",
       "9   10     A  Doni Rinaldi        1010  Kayla Rinastiti   81   78    79.5   \n",
       "10  11     B   Ahmad Yusuf        1011       Andi Riadi   60   78    69.0   \n",
       "11  12     B   Ahmad Yusuf        1012     Cahya Kurnia   90   87    88.5   \n",
       "12  13     B   Ahmad Yusuf        1013    Dicky Hambara   77   78    77.5   \n",
       "13  14     B   Ahmad Yusuf        1014    Evan Setiawan   79   82    80.5   \n",
       "14  15     B   Ahmad Yusuf        1015      Gina Lolita   88   80    84.0   \n",
       "15  16     B   Ahmad Yusuf        1016     Hafid Azhari   82   77    79.5   \n",
       "16  17     B   Ahmad Yusuf        1017     Inayah Lutfi   75   79    77.0   \n",
       "17  18     B   Ahmad Yusuf        1018       Farah Diba   70   75    72.5   \n",
       "18  19     B   Ahmad Yusuf        1019     Kurnia Sandi   80   82    81.0   \n",
       "19  20     B   Ahmad Yusuf        1020      Lita Dahayu   82   81    81.5   \n",
       "20  21     C    Reni Riana        1021          Marina    88   90    89.0   \n",
       "21  22     C    Reni Riana        1022      Wahyu Setya   98   95    96.5   \n",
       "22  23     C    Reni Riana        1023       Zulkarnaen   78   83    80.5   \n",
       "23  24     C    Reni Riana        1024   Rahmat Pribadi   81   77    79.0   \n",
       "24  25     C    Reni Riana        1025      Vera Fajril   84   80    82.0   \n",
       "25  26     C    Reni Riana        1026   Banu Mahardika   86   79    82.5   \n",
       "26  27     C    Reni Riana        1027      Usman Sapta   93   87    90.0   \n",
       "27  28     C    Reni Riana        1028     Agus Susetya   75   78    76.5   \n",
       "28  29     C    Reni Riana        1029       Beni Riadi   72   75    73.5   \n",
       "29  30     C    Reni Riana        1030    Dodi Mahendra   83   79    81.0   \n",
       "\n",
       "   GRADES  \n",
       "0       A  \n",
       "1       A  \n",
       "2       D  \n",
       "3       B  \n",
       "4       A  \n",
       "5       B  \n",
       "6       A  \n",
       "7       C  \n",
       "8       A  \n",
       "9       B  \n",
       "10      C  \n",
       "11      A  \n",
       "12      B  \n",
       "13      A  \n",
       "14      A  \n",
       "15      B  \n",
       "16      B  \n",
       "17      B  \n",
       "18      A  \n",
       "19      A  \n",
       "20      A  \n",
       "21      A  \n",
       "22      A  \n",
       "23      B  \n",
       "24      A  \n",
       "25      A  \n",
       "26      A  \n",
       "27      B  \n",
       "28      B  \n",
       "29      A  "
      ]
     },
     "execution_count": 4,
     "metadata": {},
     "output_type": "execute_result"
    }
   ],
   "source": [
    "data"
   ]
  },
  {
   "cell_type": "markdown",
   "id": "4c3c6a8a-40e5-439c-8845-01a287f3cee9",
   "metadata": {},
   "source": [
    "Search & display the minimum final scores (SCORES) of all classes. The loc method is used to access data based on labels (column names). The idxmin() method is used to get the index from the data with the minimum value."
   ]
  },
  {
   "cell_type": "code",
   "execution_count": 5,
   "id": "ffa67fa7-ccf7-45fa-b74e-753a5c6b2fa6",
   "metadata": {},
   "outputs": [
    {
     "data": {
      "text/plain": [
       "No                         3\n",
       "CLASS                      A\n",
       "TEACHER_NAME    Doni Rinaldi\n",
       "STUDENT_ID              1003\n",
       "STUDENT_NAME    Panji Kusuma\n",
       "MES                       60\n",
       "FES                       56\n",
       "SCORES                  58.0\n",
       "GRADES                     D\n",
       "Name: 2, dtype: object"
      ]
     },
     "execution_count": 5,
     "metadata": {},
     "output_type": "execute_result"
    }
   ],
   "source": [
    "SCORES_minimum = data.loc[data['SCORES'].idxmin()]\n",
    "SCORES_minimum"
   ]
  },
  {
   "cell_type": "markdown",
   "id": "0670c7be-57ea-4e47-a1f1-8b17d778aeca",
   "metadata": {},
   "source": [
    "Finds and displays the maximum final score from all classes. The idxmax() method is used to get the index from the data with the maximum value."
   ]
  },
  {
   "cell_type": "code",
   "execution_count": 6,
   "id": "386554dd-5592-4f4a-b3fc-9f5236ca0e2b",
   "metadata": {},
   "outputs": [
    {
     "data": {
      "text/plain": [
       "No                          9\n",
       "CLASS                       A\n",
       "TEACHER_NAME     Doni Rinaldi\n",
       "STUDENT_ID               1009\n",
       "STUDENT_NAME    Beni Mahendra\n",
       "MES                        98\n",
       "FES                        95\n",
       "SCORES                   96.5\n",
       "GRADES                      A\n",
       "Name: 8, dtype: object"
      ]
     },
     "execution_count": 6,
     "metadata": {},
     "output_type": "execute_result"
    }
   ],
   "source": [
    "SCORES_maximum = data.loc[data['SCORES'].idxmax()]\n",
    "SCORES_maximum"
   ]
  },
  {
   "cell_type": "markdown",
   "id": "f7139f70-34d2-480f-9c4e-6fe38e6244eb",
   "metadata": {},
   "source": [
    "Find and display the average final grade of all classes. The mean() method is used to calculate the average of a number of data."
   ]
  },
  {
   "cell_type": "code",
   "execution_count": 7,
   "id": "a58f2a1f-74db-4b6f-9f4a-81976b702152",
   "metadata": {},
   "outputs": [
    {
     "data": {
      "text/plain": [
       "np.float64(80.58333333333333)"
      ]
     },
     "execution_count": 7,
     "metadata": {},
     "output_type": "execute_result"
    }
   ],
   "source": [
    "avg_all = data['SCORES'].mean()\n",
    "avg_all"
   ]
  },
  {
   "cell_type": "markdown",
   "id": "471db7e7-26f5-4c31-969b-56c0873f9a4a",
   "metadata": {},
   "source": [
    "Search & display the number of students who got grades A, B, C, D (respectively) in all classes. The value_counts() method is used to count objects that contain a certain value."
   ]
  },
  {
   "cell_type": "code",
   "execution_count": 8,
   "id": "62d63ebe-e8e5-4c14-b403-b55ddcb9dd21",
   "metadata": {},
   "outputs": [
    {
     "data": {
      "text/plain": [
       "GRADES\n",
       "A    17\n",
       "B    10\n",
       "C     2\n",
       "D     1\n",
       "Name: count, dtype: int64"
      ]
     },
     "execution_count": 8,
     "metadata": {},
     "output_type": "execute_result"
    }
   ],
   "source": [
    "GRADES_counts = data['GRADES'].value_counts()\n",
    "GRADES_counts"
   ]
  },
  {
   "cell_type": "markdown",
   "id": "7bd8c388-e9ac-4691-8aaa-f81b569091cd",
   "metadata": {},
   "source": [
    "Find and display the average NA of each class. The groupby method is used to group data based on certain categories and apply a certain function to those categories."
   ]
  },
  {
   "cell_type": "code",
   "execution_count": 9,
   "id": "fc26d2fc-9f8d-41f3-901d-3abf387cbff7",
   "metadata": {},
   "outputs": [
    {
     "data": {
      "text/plain": [
       "CLASS\n",
       "A    79.60\n",
       "B    79.10\n",
       "C    83.05\n",
       "Name: SCORES, dtype: float64"
      ]
     },
     "execution_count": 9,
     "metadata": {},
     "output_type": "execute_result"
    }
   ],
   "source": [
    "avg_GRADES_class = data.groupby('CLASS')['SCORES'].mean()\n",
    "avg_GRADES_class"
   ]
  },
  {
   "cell_type": "markdown",
   "id": "9a98430e-5a9a-4363-962d-20b739ec72f9",
   "metadata": {},
   "source": [
    "Search and display student data with the maximum NA from each class."
   ]
  },
  {
   "cell_type": "code",
   "execution_count": 10,
   "id": "cbba47e9-a79f-415e-8fca-89a1c749a1db",
   "metadata": {},
   "outputs": [
    {
     "data": {
      "text/html": [
       "<div>\n",
       "<style scoped>\n",
       "    .dataframe tbody tr th:only-of-type {\n",
       "        vertical-align: middle;\n",
       "    }\n",
       "\n",
       "    .dataframe tbody tr th {\n",
       "        vertical-align: top;\n",
       "    }\n",
       "\n",
       "    .dataframe thead th {\n",
       "        text-align: right;\n",
       "    }\n",
       "</style>\n",
       "<table border=\"1\" class=\"dataframe\">\n",
       "  <thead>\n",
       "    <tr style=\"text-align: right;\">\n",
       "      <th></th>\n",
       "      <th>No</th>\n",
       "      <th>CLASS</th>\n",
       "      <th>TEACHER_NAME</th>\n",
       "      <th>STUDENT_ID</th>\n",
       "      <th>STUDENT_NAME</th>\n",
       "      <th>MES</th>\n",
       "      <th>FES</th>\n",
       "      <th>SCORES</th>\n",
       "      <th>GRADES</th>\n",
       "    </tr>\n",
       "  </thead>\n",
       "  <tbody>\n",
       "    <tr>\n",
       "      <th>8</th>\n",
       "      <td>9</td>\n",
       "      <td>A</td>\n",
       "      <td>Doni Rinaldi</td>\n",
       "      <td>1009</td>\n",
       "      <td>Beni Mahendra</td>\n",
       "      <td>98</td>\n",
       "      <td>95</td>\n",
       "      <td>96.5</td>\n",
       "      <td>A</td>\n",
       "    </tr>\n",
       "    <tr>\n",
       "      <th>11</th>\n",
       "      <td>12</td>\n",
       "      <td>B</td>\n",
       "      <td>Ahmad Yusuf</td>\n",
       "      <td>1012</td>\n",
       "      <td>Cahya Kurnia</td>\n",
       "      <td>90</td>\n",
       "      <td>87</td>\n",
       "      <td>88.5</td>\n",
       "      <td>A</td>\n",
       "    </tr>\n",
       "    <tr>\n",
       "      <th>21</th>\n",
       "      <td>22</td>\n",
       "      <td>C</td>\n",
       "      <td>Reni Riana</td>\n",
       "      <td>1022</td>\n",
       "      <td>Wahyu Setya</td>\n",
       "      <td>98</td>\n",
       "      <td>95</td>\n",
       "      <td>96.5</td>\n",
       "      <td>A</td>\n",
       "    </tr>\n",
       "  </tbody>\n",
       "</table>\n",
       "</div>"
      ],
      "text/plain": [
       "    No CLASS  TEACHER_NAME  STUDENT_ID   STUDENT_NAME  MES  FES  SCORES GRADES\n",
       "8    9     A  Doni Rinaldi        1009  Beni Mahendra   98   95    96.5      A\n",
       "11  12     B   Ahmad Yusuf        1012   Cahya Kurnia   90   87    88.5      A\n",
       "21  22     C    Reni Riana        1022    Wahyu Setya   98   95    96.5      A"
      ]
     },
     "execution_count": 10,
     "metadata": {},
     "output_type": "execute_result"
    }
   ],
   "source": [
    "max_GRADES_class = data.loc[data.groupby('CLASS')['SCORES'].idxmax()]\n",
    "max_GRADES_class"
   ]
  },
  {
   "cell_type": "markdown",
   "id": "7692dbb2-e760-4e1b-8491-9ee7ac313713",
   "metadata": {},
   "source": [
    "Search and display student data with minimum NA from each class."
   ]
  },
  {
   "cell_type": "code",
   "execution_count": 11,
   "id": "202e2c8d-e2d0-4a1a-8a9e-9b6a8e11368a",
   "metadata": {},
   "outputs": [
    {
     "data": {
      "text/html": [
       "<div>\n",
       "<style scoped>\n",
       "    .dataframe tbody tr th:only-of-type {\n",
       "        vertical-align: middle;\n",
       "    }\n",
       "\n",
       "    .dataframe tbody tr th {\n",
       "        vertical-align: top;\n",
       "    }\n",
       "\n",
       "    .dataframe thead th {\n",
       "        text-align: right;\n",
       "    }\n",
       "</style>\n",
       "<table border=\"1\" class=\"dataframe\">\n",
       "  <thead>\n",
       "    <tr style=\"text-align: right;\">\n",
       "      <th></th>\n",
       "      <th>No</th>\n",
       "      <th>CLASS</th>\n",
       "      <th>TEACHER_NAME</th>\n",
       "      <th>STUDENT_ID</th>\n",
       "      <th>STUDENT_NAME</th>\n",
       "      <th>MES</th>\n",
       "      <th>FES</th>\n",
       "      <th>SCORES</th>\n",
       "      <th>GRADES</th>\n",
       "    </tr>\n",
       "  </thead>\n",
       "  <tbody>\n",
       "    <tr>\n",
       "      <th>2</th>\n",
       "      <td>3</td>\n",
       "      <td>A</td>\n",
       "      <td>Doni Rinaldi</td>\n",
       "      <td>1003</td>\n",
       "      <td>Panji Kusuma</td>\n",
       "      <td>60</td>\n",
       "      <td>56</td>\n",
       "      <td>58.0</td>\n",
       "      <td>D</td>\n",
       "    </tr>\n",
       "    <tr>\n",
       "      <th>10</th>\n",
       "      <td>11</td>\n",
       "      <td>B</td>\n",
       "      <td>Ahmad Yusuf</td>\n",
       "      <td>1011</td>\n",
       "      <td>Andi Riadi</td>\n",
       "      <td>60</td>\n",
       "      <td>78</td>\n",
       "      <td>69.0</td>\n",
       "      <td>C</td>\n",
       "    </tr>\n",
       "    <tr>\n",
       "      <th>28</th>\n",
       "      <td>29</td>\n",
       "      <td>C</td>\n",
       "      <td>Reni Riana</td>\n",
       "      <td>1029</td>\n",
       "      <td>Beni Riadi</td>\n",
       "      <td>72</td>\n",
       "      <td>75</td>\n",
       "      <td>73.5</td>\n",
       "      <td>B</td>\n",
       "    </tr>\n",
       "  </tbody>\n",
       "</table>\n",
       "</div>"
      ],
      "text/plain": [
       "    No CLASS  TEACHER_NAME  STUDENT_ID  STUDENT_NAME  MES  FES  SCORES GRADES\n",
       "2    3     A  Doni Rinaldi        1003  Panji Kusuma   60   56    58.0      D\n",
       "10  11     B   Ahmad Yusuf        1011    Andi Riadi   60   78    69.0      C\n",
       "28  29     C    Reni Riana        1029    Beni Riadi   72   75    73.5      B"
      ]
     },
     "execution_count": 11,
     "metadata": {},
     "output_type": "execute_result"
    }
   ],
   "source": [
    "min_GRADES_class = data.loc[data.groupby('CLASS')['SCORES'].idxmin()]\n",
    "min_GRADES_class"
   ]
  },
  {
   "cell_type": "markdown",
   "id": "68c42d30-08ed-43a4-ac14-62bfec14d3ce",
   "metadata": {},
   "source": [
    "Bar graph of the average NA of each class, the class with the highest average, and the class with the lowest average"
   ]
  },
  {
   "cell_type": "code",
   "execution_count": 12,
   "id": "b3030f72-f1bd-4641-a004-8e8fa621084a",
   "metadata": {},
   "outputs": [
    {
     "data": {
      "image/png": "[encoded data removed]",
      "text/plain": [
       "<Figure size 1000x600 with 1 Axes>"
      ]
     },
     "metadata": {},
     "output_type": "display_data"
    },
    {
     "name": "stdout",
     "output_type": "stream",
     "text": [
      "The class with the highest average SCORES value is the class C\n",
      "The class with the lowest average SCORES value is the class B\n"
     ]
    }
   ],
   "source": [
    "class_averages = data.groupby('CLASS')['SCORES'].mean()\n",
    "\n",
    "# Create bar graphs for average data\n",
    "plt.figure(figsize=(10,6))\n",
    "avg_GRADES_class.plot(kind='bar')\n",
    "plt.xlabel('Class')\n",
    "plt.ylabel('Scores average value')\n",
    "plt.title('Average Scores value per class')\n",
    "\n",
    "# Shows a bar graph\n",
    "plt.show()\n",
    "\n",
    "# Look for classes with the highest and lowest average scores\n",
    "highest_average_class = class_averages.idxmax()\n",
    "lowest_average_class = class_averages.idxmin()\n",
    "\n",
    "print(\"The class with the highest average SCORES value is the class\", highest_average_class)\n",
    "print(\"The class with the lowest average SCORES value is the class\", lowest_average_class)"
   ]
  },
  {
   "cell_type": "markdown",
   "id": "dd742435-caf7-401c-aaa0-03dbf82f144b",
   "metadata": {},
   "source": [
    "**Install Library Flask**"
   ]
  },
  {
   "cell_type": "code",
   "execution_count": 13,
   "id": "4274357d-eb25-4dad-9932-9308626626cf",
   "metadata": {},
   "outputs": [
    {
     "name": "stdout",
     "output_type": "stream",
     "text": [
      "Requirement already satisfied: Flask in /Library/Frameworks/Python.framework/Versions/3.12/lib/python3.12/site-packages (3.0.3)\n",
      "Requirement already satisfied: Werkzeug>=3.0.0 in /Library/Frameworks/Python.framework/Versions/3.12/lib/python3.12/site-packages (from Flask) (3.0.3)\n",
      "Requirement already satisfied: Jinja2>=3.1.2 in /Library/Frameworks/Python.framework/Versions/3.12/lib/python3.12/site-packages (from Flask) (3.1.4)\n",
      "Requirement already satisfied: itsdangerous>=2.1.2 in /Library/Frameworks/Python.framework/Versions/3.12/lib/python3.12/site-packages (from Flask) (2.2.0)\n",
      "Requirement already satisfied: click>=8.1.3 in /Library/Frameworks/Python.framework/Versions/3.12/lib/python3.12/site-packages (from Flask) (8.1.7)\n",
      "Requirement already satisfied: blinker>=1.6.2 in /Library/Frameworks/Python.framework/Versions/3.12/lib/python3.12/site-packages (from Flask) (1.8.2)\n",
      "Requirement already satisfied: MarkupSafe>=2.0 in /Library/Frameworks/Python.framework/Versions/3.12/lib/python3.12/site-packages (from Jinja2>=3.1.2->Flask) (2.1.5)\n"
     ]
    }
   ],
   "source": [
    "!pip3 install Flask"
   ]
  },
  {
   "cell_type": "code",
   "execution_count": null,
   "id": "fe4deb13-7482-40a7-acfe-7fee5b501cd4",
   "metadata": {},
   "outputs": [
    {
     "name": "stdout",
     "output_type": "stream",
     "text": [
      "Requirement already satisfied: Python-IO in /Library/Frameworks/Python.framework/Versions/3.12/lib/python3.12/site-packages (0.3)\n",
      "Requirement already satisfied: customtkinter in /Library/Frameworks/Python.framework/Versions/3.12/lib/python3.12/site-packages (from Python-IO) (5.2.2)\n",
      "Requirement already satisfied: requests in /Library/Frameworks/Python.framework/Versions/3.12/lib/python3.12/site-packages (from Python-IO) (2.32.3)\n",
      "Requirement already satisfied: darkdetect in /Library/Frameworks/Python.framework/Versions/3.12/lib/python3.12/site-packages (from customtkinter->Python-IO) (0.8.0)\n",
      "Requirement already satisfied: packaging in /Library/Frameworks/Python.framework/Versions/3.12/lib/python3.12/site-packages (from customtkinter->Python-IO) (24.1)\n",
      "Requirement already satisfied: charset-normalizer<4,>=2 in /Library/Frameworks/Python.framework/Versions/3.12/lib/python3.12/site-packages (from requests->Python-IO) (3.3.2)\n",
      "Requirement already satisfied: idna<4,>=2.5 in /Library/Frameworks/Python.framework/Versions/3.12/lib/python3.12/site-packages (from requests->Python-IO) (3.7)\n",
      "Requirement already satisfied: urllib3<3,>=1.21.1 in /Library/Frameworks/Python.framework/Versions/3.12/lib/python3.12/site-packages (from requests->Python-IO) (2.2.2)\n",
      "Requirement already satisfied: certifi>=2017.4.17 in /Library/Frameworks/Python.framework/Versions/3.12/lib/python3.12/site-packages (from requests->Python-IO) (2024.6.2)\n",
      "Requirement already satisfied: pybase64 in /Library/Frameworks/Python.framework/Versions/3.12/lib/python3.12/site-packages (1.3.2)\n",
      " * Serving Flask app '__main__'\n",
      " * Debug mode: off\n"
     ]
    },
    {
     "name": "stderr",
     "output_type": "stream",
     "text": [
      "\u001b[31m\u001b[1mWARNING: This is a development server. Do not use it in a production deployment. Use a production WSGI server instead.\u001b[0m\n",
      " * Running on http://127.0.0.1:5000\n",
      "\u001b[33mPress CTRL+C to quit\u001b[0m\n",
      "127.0.0.1 - - [29/Jun/2024 13:43:48] \"GET / HTTP/1.1\" 200 -\n",
      "127.0.0.1 - - [29/Jun/2024 13:43:48] \"GET /static/images/plot.png HTTP/1.1\" 200 -\n"
     ]
    }
   ],
   "source": [
    "!pip install Python-IO\n",
    "!pip install pybase64\n",
    "from flask import Flask, render_template\n",
    "from io import BytesIO\n",
    "from io import StringIO\n",
    "import base64\n",
    "\n",
    "app = Flask(__name__, template_folder='template') \n",
    "@app.route(\"/\") \n",
    "def dashboard(): \n",
    "    class_averages = data.groupby('CLASS')['SCORES'].mean()\n",
    "\n",
    "    # Create bar graphs for average data\n",
    "    plt.figure(figsize=(10,6))\n",
    "    avg_GRADES_class.plot(kind='bar')\n",
    "    plt.xlabel('Class')\n",
    "    plt.ylabel('Scores average value')\n",
    "    plt.title('Average Scores value per class')\n",
    "\n",
    "    # Shows a bar graph\n",
    "    img = StringIO()\n",
    "    plt.savefig('static/images/plot.png')\n",
    "\n",
    "    # Look for classes with the highest and lowest average scores\n",
    "    highest_average_class = class_averages.idxmax()\n",
    "    lowest_average_class = class_averages.idxmin()\n",
    "    return render_template('index.html', plot_url='/static/images/plot.png', highest_average_class=highest_average_class, lowest_average_class=lowest_average_class)\n",
    "\n",
    "app.run() "
   ]
  },
  {
   "cell_type": "code",
   "execution_count": null,
   "id": "624c79cf-f6dd-4795-9551-4480155b0222",
   "metadata": {},
   "outputs": [],
   "source": []
  }
 ],
 "metadata": {
  "kernelspec": {
   "display_name": "Python 3 (ipykernel)",
   "language": "python",
   "name": "python3"
  },
  "language_info": {
   "codemirror_mode": {
    "name": "ipython",
    "version": 3
   },
   "file_extension": ".py",
   "mimetype": "text/x-python",
   "name": "python",
   "nbconvert_exporter": "python",
   "pygments_lexer": "ipython3",
   "version": "3.12.4"
  }
 },
 "nbformat": 4,
 "nbformat_minor": 5
}
